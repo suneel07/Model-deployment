{
 "cells": [
  {
   "cell_type": "code",
   "execution_count": 29,
   "metadata": {},
   "outputs": [],
   "source": [
    "from tensorflow.keras.models import load_model\n",
    "import numpy as np\n",
    "from flask import Flask,request,jsonify,render_template\n",
    "import os\n",
    "import uuid\n",
    "\n",
    "app = Flask(__name__)\n"
   ]
  },
  {
   "cell_type": "code",
   "execution_count": 30,
   "metadata": {},
   "outputs": [],
   "source": [
    "Expected = {\n",
    "\"cylinders\":{\"min\":3,\"max\":8},\n",
    "\"displacement\":{\"min\":68.0,\"max\":455.0},\n",
    "\"horsepower\":{\"min\":46.0,\"max\":230.0},\n",
    "\"weight\":{\"min\":1613,\"max\":5140},\n",
    "\"acceleration\":{\"min\":8.0,\"max\":24.8},\n",
    "\"year\":{\"min\":70,\"max\":82},\n",
    "\"origin\":{\"min\":1,\"max\":3}\n",
    "}"
   ]
  },
  {
   "cell_type": "code",
   "execution_count": 31,
   "metadata": {},
   "outputs": [],
   "source": [
    "os.chdir(r'C:\\Users\\user\\Flask')\n",
    "model = load_model(os.path.join(os.getcwd(),\"mpg_model.h5\"))"
   ]
  },
  {
   "cell_type": "code",
   "execution_count": 32,
   "metadata": {},
   "outputs": [
    {
     "name": "stdout",
     "output_type": "stream",
     "text": [
      "Model: \"sequential_8\"\n",
      "_________________________________________________________________\n",
      "Layer (type)                 Output Shape              Param #   \n",
      "=================================================================\n",
      "dense_22 (Dense)             (None, 25)                200       \n",
      "_________________________________________________________________\n",
      "dense_23 (Dense)             (None, 20)                520       \n",
      "_________________________________________________________________\n",
      "dense_24 (Dense)             (None, 1)                 21        \n",
      "=================================================================\n",
      "Total params: 741\n",
      "Trainable params: 741\n",
      "Non-trainable params: 0\n",
      "_________________________________________________________________\n"
     ]
    }
   ],
   "source": [
    "model.summary()"
   ]
  },
  {
   "cell_type": "code",
   "execution_count": 33,
   "metadata": {},
   "outputs": [],
   "source": [
    "@app.route('/')\n",
    "def home():\n",
    "    return render_template('index.html')\n",
    "\n",
    "\n",
    "@app.route('/predict',methods=['POST'])\n",
    "def predict():\n",
    "    content = [int(x) for x in request.form.values()]\n",
    "    received = {\"cylinders\":content[0],\"displacement\":content[1],\"horsepower\":content[2],\n",
    "               \"weight\":content[3],\"acceleration\":content[4],\"year\":content[5],\"origin\":content[6]}\n",
    "    \n",
    "    errors = []\n",
    "    for name in received:\n",
    "        if name in Expected:\n",
    "            expec_min = Expected[name]['min']\n",
    "            expec_max = Expected[name]['max']\n",
    "            value = received[name]\n",
    "            if value < expec_min or value > expec_max:\n",
    "                errors.append(f\"The given values for {name} are out of Range, it should be between {expec_min} and {expec_max}\")\n",
    "        else:\n",
    "            errors.append(f'Unexpected field {(name)} received as input')\n",
    "    for name in Expected:\n",
    "        if name not in received:\n",
    "            errors.append(f'one of the required field{(name)} is missingin the input data')\n",
    "    if len(errors) <1:\n",
    "        x = np.zeros((1,7))\n",
    "        x[0,0] = received['cylinders']\n",
    "        x[0,1] = received['displacement']\n",
    "        x[0,2] = received['horsepower']\n",
    "        x[0,3] = received['weight']\n",
    "        x[0,4] = received['acceleration']\n",
    "        x[0,5] = received['year']\n",
    "        x[0,6] = received['origin']\n",
    "        \n",
    "        prediction = model.predict(x)\n",
    "        mpg = float(prediction[0])\n",
    "        response = {'ID': str(uuid.uuid4()),'The calculated Milage':mpg,'Errors': errors}\n",
    "    else:\n",
    "        response = {'ID':str(uuid.uuid4()),'Errors': errors}\n",
    "    return render_template('index.html', prediction_text='Your prediction result is below $ {}'.format(response))"
   ]
  },
  {
   "cell_type": "code",
   "execution_count": 34,
   "metadata": {},
   "outputs": [
    {
     "name": "stdout",
     "output_type": "stream",
     "text": [
      " * Serving Flask app \"__main__\" (lazy loading)\n",
      " * Environment: production\n",
      "   WARNING: This is a development server. Do not use it in a production deployment.\n",
      "   Use a production WSGI server instead.\n",
      " * Debug mode: on\n"
     ]
    },
    {
     "name": "stderr",
     "output_type": "stream",
     "text": [
      " * Running on http://127.0.0.1:5000/ (Press CTRL+C to quit)\n",
      "127.0.0.1 - - [17/Jul/2020 18:39:48] \"\u001b[37mGET / HTTP/1.1\u001b[0m\" 200 -\n",
      "127.0.0.1 - - [17/Jul/2020 18:40:04] \"\u001b[37mPOST /predict HTTP/1.1\u001b[0m\" 200 -\n"
     ]
    }
   ],
   "source": [
    "if __name__ == \"__main__\":\n",
    "    app.run(debug = True,use_reloader = False,)"
   ]
  },
  {
   "cell_type": "code",
   "execution_count": null,
   "metadata": {},
   "outputs": [],
   "source": []
  },
  {
   "cell_type": "code",
   "execution_count": null,
   "metadata": {},
   "outputs": [],
   "source": []
  },
  {
   "cell_type": "code",
   "execution_count": null,
   "metadata": {},
   "outputs": [],
   "source": []
  },
  {
   "cell_type": "code",
   "execution_count": null,
   "metadata": {},
   "outputs": [],
   "source": [
    "##@app.route(\"/api\",methods =['POST'])\n",
    "def mpg_prediction():\n",
    "    content = request.json\n",
    "    errors = []\n",
    "    for name in content:\n",
    "        if name in Expected:\n",
    "            expec_min = Expected[name]['min']\n",
    "            expec_max = Expected[name]['max']\n",
    "            value = content[name]\n",
    "            if value < expec_min or value > expec_max:\n",
    "                errors.append(f\"The given values for {name} are out of Range, it should be between {expec_min} and {expec_max}\")\n",
    "        else:\n",
    "            errors.append(f'Unexpected field {(name)} received as input')\n",
    "    for name in Expected:\n",
    "        if name not in content:\n",
    "            errors.append(f'one of the required field{(name)} is missingin the input data')\n",
    "    if len(errors) <1:\n",
    "        x = np.zeros((1,7))\n",
    "        x[0,0] = content['cylinders']\n",
    "        x[0,1] = content['displacement']\n",
    "        x[0,2] = content['horsepower']\n",
    "        x[0,3] = content['weight']\n",
    "        x[0,4] = content['acceleration']\n",
    "        x[0,5] = content['year']\n",
    "        x[0,6] = content['origin']\n",
    "        \n",
    "        prediction = model.predict(x)\n",
    "        mpg = float(prediction[0])\n",
    "        response = {'id': str(uuid.uuid4()),'mgp':mpg,'errors': errors}\n",
    "    else:\n",
    "        response = {'id':str(uuid.uuid4()),'errors': errors}\n",
    "    return jsonify(response)\n"
   ]
  },
  {
   "cell_type": "code",
   "execution_count": null,
   "metadata": {},
   "outputs": [],
   "source": []
  },
  {
   "cell_type": "code",
   "execution_count": null,
   "metadata": {},
   "outputs": [],
   "source": []
  },
  {
   "cell_type": "code",
   "execution_count": null,
   "metadata": {},
   "outputs": [],
   "source": []
  },
  {
   "cell_type": "code",
   "execution_count": null,
   "metadata": {},
   "outputs": [],
   "source": []
  }
 ],
 "metadata": {
  "kernelspec": {
   "display_name": "Python 3",
   "language": "python",
   "name": "python3"
  },
  "language_info": {
   "codemirror_mode": {
    "name": "ipython",
    "version": 3
   },
   "file_extension": ".py",
   "mimetype": "text/x-python",
   "name": "python",
   "nbconvert_exporter": "python",
   "pygments_lexer": "ipython3",
   "version": "3.7.7"
  }
 },
 "nbformat": 4,
 "nbformat_minor": 4
}
